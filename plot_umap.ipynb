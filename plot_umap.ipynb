{
 "cells": [
  {
   "cell_type": "code",
   "execution_count": 1,
   "id": "d20e5480",
   "metadata": {},
   "outputs": [],
   "source": [
    "from matplotlib import pyplot as plt\n",
    "import pandas as pd\n",
    "from glob import glob\n",
    "import os\n",
    "import seaborn as sns"
   ]
  },
  {
   "cell_type": "markdown",
   "id": "df1f74a0",
   "metadata": {},
   "source": [
    "# Float"
   ]
  },
  {
   "cell_type": "code",
   "execution_count": null,
   "id": "8292c2c7",
   "metadata": {},
   "outputs": [],
   "source": [
    "# Float32\n",
    "repo_id = \"bluuebunny/arxiv_abstract_embedding_mxbai_large_v1_milvus\"\n",
    "\n",
    "# Folder where umap results are\n",
    "results_folder = repo_id + '/umap/euclidean'\n",
    "\n",
    "# Gather all parquet files in the data folder\n",
    "parquets = glob(f'{results_folder}/*.parquet', recursive=True)\n",
    "parquets.sort()"
   ]
  },
  {
   "cell_type": "code",
   "execution_count": null,
   "id": "b5498d0e",
   "metadata": {},
   "outputs": [],
   "source": [
    "# Filter out the yearly files\n",
    "for parquet in parquets:\n",
    "\n",
    "    print(f'Processing {parquet}')\n",
    "\n",
    "    # Read the parquet file into a pandas dataframe\n",
    "    df = pd.read_parquet(parquet)\n",
    "\n",
    "    # Get the unique categories\n",
    "    unique_categories = df['categories'].unique()\n",
    "    unique_categories.sort()\n",
    "\n",
    "    # Create a mapping from category to color\n",
    "    category_colors = {category: f'C{i}' for i, category in enumerate(unique_categories)}\n",
    "\n",
    "    # Map the categories to colors\n",
    "    df['color'] = df['categories'].map(category_colors)\n",
    "\n",
    "    # Create a scatter plot of the UMAP projection\n",
    "    plt.scatter(df['x'], df['y'], c=df['color'], s=1, alpha=0.5)\n",
    "\n",
    "    plt.title(f'Scatter plot of Float UMAP Projection for the year {os.path.basename(parquet).split(\".\")[0]}')\n",
    "    plt.xlabel('Dimension 1')\n",
    "    plt.ylabel('Dimension 2')\n",
    "    plt.legend(handles=[plt.Line2D([0], [0], marker='o', color='w', label=category,\n",
    "                                      markerfacecolor=color, markersize=5)\n",
    "                        for category, color in category_colors.items()],\n",
    "               title='Categories', loc='upper right', bbox_to_anchor=(1.15, 1))\n",
    "\n",
    "    plt.tight_layout()\n",
    "    plt.savefig(f\"{parquet.replace('.parquet', '_scatter_float.png')}\", dpi=300, bbox_inches='tight')\n",
    "\n",
    "    # Uncomment the line below to display the plot\n",
    "    # plt.show()\n",
    "\n",
    "    plt.close()\n",
    "    "
   ]
  },
  {
   "cell_type": "code",
   "execution_count": null,
   "id": "022abfb7",
   "metadata": {},
   "outputs": [],
   "source": [
    "# Filter out the yearly files\n",
    "for parquet in parquets:\n",
    "\n",
    "    print(f'Processing {parquet}')\n",
    "\n",
    "    # Read the parquet file into a pandas dataframe\n",
    "    df = pd.read_parquet(parquet)\n",
    "\n",
    "    # Get the unique categories\n",
    "    unique_categories = df['categories'].unique()\n",
    "    unique_categories.sort()\n",
    "\n",
    "    # Create a mapping from category to color\n",
    "    category_colors = {category: f'C{i}' for i, category in enumerate(unique_categories)}\n",
    "\n",
    "    # Map the categories to colors\n",
    "    df['color'] = df['categories'].map(category_colors)\n",
    "\n",
    "    # Create a kde plot of the UMAP projection\n",
    "    sns.kdeplot(data=df, x=\"x\", y=\"y\", hue=\"color\", fill=True,)\n",
    "\n",
    "    plt.title(f'KDE plot of Float UMAP Projection for the year {os.path.basename(parquet).split(\".\")[0]}')\n",
    "    plt.xlabel('Dimension 1')\n",
    "    plt.ylabel('Dimension 2')\n",
    "    plt.legend(handles=[plt.Line2D([0], [0], marker='o', color='w', label=category,\n",
    "                                      markerfacecolor=color, markersize=5)\n",
    "                        for category, color in category_colors.items()],\n",
    "               title='Categories', loc='upper right', bbox_to_anchor=(1.15, 1))\n",
    "\n",
    "    plt.tight_layout()\n",
    "    plt.savefig(f\"{parquet.replace('.parquet', '_kde_float.png')}\", dpi=300, bbox_inches='tight')\n",
    "\n",
    "    # Uncomment the line below to display the plot\n",
    "    # plt.show()\n",
    "\n",
    "    plt.close()\n",
    "    \n",
    "\n"
   ]
  },
  {
   "cell_type": "markdown",
   "id": "b1d35965",
   "metadata": {},
   "source": [
    "# Binary"
   ]
  },
  {
   "cell_type": "code",
   "execution_count": 2,
   "id": "cd33063a",
   "metadata": {},
   "outputs": [],
   "source": [
    "# Float32\n",
    "repo_id = \"bluuebunny/arxiv_abstract_embedding_mxbai_large_v1_milvus_binary\"\n",
    "\n",
    "# Folder where umap results are\n",
    "results_folder = repo_id + '/umap/hamming'\n",
    "\n",
    "# Gather all parquet files in the data folder\n",
    "parquets = glob(f'{results_folder}/*.parquet', recursive=True)\n",
    "parquets.sort()"
   ]
  },
  {
   "cell_type": "code",
   "execution_count": 3,
   "id": "5fc7d594",
   "metadata": {},
   "outputs": [
    {
     "name": "stdout",
     "output_type": "stream",
     "text": [
      "Processing bluuebunny/arxiv_abstract_embedding_mxbai_large_v1_milvus_binary/umap/hamming/1991.parquet\n",
      "Processing bluuebunny/arxiv_abstract_embedding_mxbai_large_v1_milvus_binary/umap/hamming/1992.parquet\n",
      "Processing bluuebunny/arxiv_abstract_embedding_mxbai_large_v1_milvus_binary/umap/hamming/1993.parquet\n",
      "Processing bluuebunny/arxiv_abstract_embedding_mxbai_large_v1_milvus_binary/umap/hamming/1994.parquet\n",
      "Processing bluuebunny/arxiv_abstract_embedding_mxbai_large_v1_milvus_binary/umap/hamming/1995.parquet\n",
      "Processing bluuebunny/arxiv_abstract_embedding_mxbai_large_v1_milvus_binary/umap/hamming/1996.parquet\n",
      "Processing bluuebunny/arxiv_abstract_embedding_mxbai_large_v1_milvus_binary/umap/hamming/1997.parquet\n",
      "Processing bluuebunny/arxiv_abstract_embedding_mxbai_large_v1_milvus_binary/umap/hamming/1998.parquet\n",
      "Processing bluuebunny/arxiv_abstract_embedding_mxbai_large_v1_milvus_binary/umap/hamming/1999.parquet\n",
      "Processing bluuebunny/arxiv_abstract_embedding_mxbai_large_v1_milvus_binary/umap/hamming/2000.parquet\n",
      "Processing bluuebunny/arxiv_abstract_embedding_mxbai_large_v1_milvus_binary/umap/hamming/2001.parquet\n",
      "Processing bluuebunny/arxiv_abstract_embedding_mxbai_large_v1_milvus_binary/umap/hamming/2002.parquet\n",
      "Processing bluuebunny/arxiv_abstract_embedding_mxbai_large_v1_milvus_binary/umap/hamming/2003.parquet\n",
      "Processing bluuebunny/arxiv_abstract_embedding_mxbai_large_v1_milvus_binary/umap/hamming/2004.parquet\n",
      "Processing bluuebunny/arxiv_abstract_embedding_mxbai_large_v1_milvus_binary/umap/hamming/2005.parquet\n",
      "Processing bluuebunny/arxiv_abstract_embedding_mxbai_large_v1_milvus_binary/umap/hamming/2006.parquet\n",
      "Processing bluuebunny/arxiv_abstract_embedding_mxbai_large_v1_milvus_binary/umap/hamming/2007.parquet\n",
      "Processing bluuebunny/arxiv_abstract_embedding_mxbai_large_v1_milvus_binary/umap/hamming/2008.parquet\n",
      "Processing bluuebunny/arxiv_abstract_embedding_mxbai_large_v1_milvus_binary/umap/hamming/2009.parquet\n",
      "Processing bluuebunny/arxiv_abstract_embedding_mxbai_large_v1_milvus_binary/umap/hamming/2010.parquet\n",
      "Processing bluuebunny/arxiv_abstract_embedding_mxbai_large_v1_milvus_binary/umap/hamming/2011.parquet\n",
      "Processing bluuebunny/arxiv_abstract_embedding_mxbai_large_v1_milvus_binary/umap/hamming/2012.parquet\n",
      "Processing bluuebunny/arxiv_abstract_embedding_mxbai_large_v1_milvus_binary/umap/hamming/2013.parquet\n",
      "Processing bluuebunny/arxiv_abstract_embedding_mxbai_large_v1_milvus_binary/umap/hamming/2014.parquet\n",
      "Processing bluuebunny/arxiv_abstract_embedding_mxbai_large_v1_milvus_binary/umap/hamming/2015.parquet\n",
      "Processing bluuebunny/arxiv_abstract_embedding_mxbai_large_v1_milvus_binary/umap/hamming/2016.parquet\n",
      "Processing bluuebunny/arxiv_abstract_embedding_mxbai_large_v1_milvus_binary/umap/hamming/2017.parquet\n",
      "Processing bluuebunny/arxiv_abstract_embedding_mxbai_large_v1_milvus_binary/umap/hamming/2018.parquet\n",
      "Processing bluuebunny/arxiv_abstract_embedding_mxbai_large_v1_milvus_binary/umap/hamming/2019.parquet\n",
      "Processing bluuebunny/arxiv_abstract_embedding_mxbai_large_v1_milvus_binary/umap/hamming/2020.parquet\n",
      "Processing bluuebunny/arxiv_abstract_embedding_mxbai_large_v1_milvus_binary/umap/hamming/2021.parquet\n",
      "Processing bluuebunny/arxiv_abstract_embedding_mxbai_large_v1_milvus_binary/umap/hamming/2022.parquet\n",
      "Processing bluuebunny/arxiv_abstract_embedding_mxbai_large_v1_milvus_binary/umap/hamming/2023.parquet\n",
      "Processing bluuebunny/arxiv_abstract_embedding_mxbai_large_v1_milvus_binary/umap/hamming/2024.parquet\n",
      "Processing bluuebunny/arxiv_abstract_embedding_mxbai_large_v1_milvus_binary/umap/hamming/2025.parquet\n"
     ]
    }
   ],
   "source": [
    "# Filter out the yearly files\n",
    "for parquet in parquets:\n",
    "\n",
    "    print(f'Processing {parquet}')\n",
    "\n",
    "    # Read the parquet file into a pandas dataframe\n",
    "    df = pd.read_parquet(parquet)\n",
    "\n",
    "    # Get the unique categories\n",
    "    unique_categories = df['categories'].unique()\n",
    "    unique_categories.sort()\n",
    "\n",
    "    # Create a mapping from category to color\n",
    "    category_colors = {category: f'C{i}' for i, category in enumerate(unique_categories)}\n",
    "\n",
    "    # Map the categories to colors\n",
    "    df['color'] = df['categories'].map(category_colors)\n",
    "\n",
    "    # Create a scatter plot of the UMAP projection\n",
    "    plt.scatter(df['x'], df['y'], c=df['color'], s=1, alpha=0.5)\n",
    "\n",
    "    plt.title(f'Scatter plot of Binary UMAP Projection for the year {os.path.basename(parquet).split(\".\")[0]}')\n",
    "    plt.xlabel('Dimension 1')\n",
    "    plt.ylabel('Dimension 2')\n",
    "    plt.legend(handles=[plt.Line2D([0], [0], marker='o', color='w', label=category,\n",
    "                                      markerfacecolor=color, markersize=5)\n",
    "                        for category, color in category_colors.items()],\n",
    "               title='Categories', loc='upper right', bbox_to_anchor=(1.15, 1))\n",
    "\n",
    "    plt.tight_layout()\n",
    "    plt.savefig(f\"{parquet.replace('.parquet', '_scatter_binary.png')}\", dpi=300, bbox_inches='tight')\n",
    "\n",
    "    # Uncomment the line below to display the plot\n",
    "    # plt.show()\n",
    "\n",
    "    plt.close()\n",
    "    "
   ]
  },
  {
   "cell_type": "code",
   "execution_count": 4,
   "id": "0f613a9a",
   "metadata": {},
   "outputs": [
    {
     "name": "stdout",
     "output_type": "stream",
     "text": [
      "Processing bluuebunny/arxiv_abstract_embedding_mxbai_large_v1_milvus_binary/umap/hamming/1991.parquet\n",
      "Processing bluuebunny/arxiv_abstract_embedding_mxbai_large_v1_milvus_binary/umap/hamming/1992.parquet\n",
      "Processing bluuebunny/arxiv_abstract_embedding_mxbai_large_v1_milvus_binary/umap/hamming/1993.parquet\n",
      "Processing bluuebunny/arxiv_abstract_embedding_mxbai_large_v1_milvus_binary/umap/hamming/1994.parquet\n",
      "Processing bluuebunny/arxiv_abstract_embedding_mxbai_large_v1_milvus_binary/umap/hamming/1995.parquet\n",
      "Processing bluuebunny/arxiv_abstract_embedding_mxbai_large_v1_milvus_binary/umap/hamming/1996.parquet\n",
      "Processing bluuebunny/arxiv_abstract_embedding_mxbai_large_v1_milvus_binary/umap/hamming/1997.parquet\n",
      "Processing bluuebunny/arxiv_abstract_embedding_mxbai_large_v1_milvus_binary/umap/hamming/1998.parquet\n",
      "Processing bluuebunny/arxiv_abstract_embedding_mxbai_large_v1_milvus_binary/umap/hamming/1999.parquet\n",
      "Processing bluuebunny/arxiv_abstract_embedding_mxbai_large_v1_milvus_binary/umap/hamming/2000.parquet\n"
     ]
    },
    {
     "name": "stderr",
     "output_type": "stream",
     "text": [
      "/tmp/ipykernel_41411/3332767449.py:20: UserWarning: KDE cannot be estimated (0 variance or perfect covariance). Pass `warn_singular=False` to disable this warning.\n",
      "  sns.kdeplot(data=df, x=\"x\", y=\"y\", hue=\"color\", fill=True,)\n"
     ]
    },
    {
     "name": "stdout",
     "output_type": "stream",
     "text": [
      "Processing bluuebunny/arxiv_abstract_embedding_mxbai_large_v1_milvus_binary/umap/hamming/2001.parquet\n",
      "Processing bluuebunny/arxiv_abstract_embedding_mxbai_large_v1_milvus_binary/umap/hamming/2002.parquet\n",
      "Processing bluuebunny/arxiv_abstract_embedding_mxbai_large_v1_milvus_binary/umap/hamming/2003.parquet\n",
      "Processing bluuebunny/arxiv_abstract_embedding_mxbai_large_v1_milvus_binary/umap/hamming/2004.parquet\n",
      "Processing bluuebunny/arxiv_abstract_embedding_mxbai_large_v1_milvus_binary/umap/hamming/2005.parquet\n",
      "Processing bluuebunny/arxiv_abstract_embedding_mxbai_large_v1_milvus_binary/umap/hamming/2006.parquet\n",
      "Processing bluuebunny/arxiv_abstract_embedding_mxbai_large_v1_milvus_binary/umap/hamming/2007.parquet\n",
      "Processing bluuebunny/arxiv_abstract_embedding_mxbai_large_v1_milvus_binary/umap/hamming/2008.parquet\n",
      "Processing bluuebunny/arxiv_abstract_embedding_mxbai_large_v1_milvus_binary/umap/hamming/2009.parquet\n",
      "Processing bluuebunny/arxiv_abstract_embedding_mxbai_large_v1_milvus_binary/umap/hamming/2010.parquet\n"
     ]
    },
    {
     "name": "stderr",
     "output_type": "stream",
     "text": [
      "/tmp/ipykernel_41411/3332767449.py:20: UserWarning: KDE cannot be estimated (0 variance or perfect covariance). Pass `warn_singular=False` to disable this warning.\n",
      "  sns.kdeplot(data=df, x=\"x\", y=\"y\", hue=\"color\", fill=True,)\n"
     ]
    },
    {
     "name": "stdout",
     "output_type": "stream",
     "text": [
      "Processing bluuebunny/arxiv_abstract_embedding_mxbai_large_v1_milvus_binary/umap/hamming/2011.parquet\n",
      "Processing bluuebunny/arxiv_abstract_embedding_mxbai_large_v1_milvus_binary/umap/hamming/2012.parquet\n",
      "Processing bluuebunny/arxiv_abstract_embedding_mxbai_large_v1_milvus_binary/umap/hamming/2013.parquet\n",
      "Processing bluuebunny/arxiv_abstract_embedding_mxbai_large_v1_milvus_binary/umap/hamming/2014.parquet\n"
     ]
    },
    {
     "name": "stderr",
     "output_type": "stream",
     "text": [
      "/tmp/ipykernel_41411/3332767449.py:20: UserWarning: KDE cannot be estimated (0 variance or perfect covariance). Pass `warn_singular=False` to disable this warning.\n",
      "  sns.kdeplot(data=df, x=\"x\", y=\"y\", hue=\"color\", fill=True,)\n"
     ]
    },
    {
     "name": "stdout",
     "output_type": "stream",
     "text": [
      "Processing bluuebunny/arxiv_abstract_embedding_mxbai_large_v1_milvus_binary/umap/hamming/2015.parquet\n"
     ]
    },
    {
     "name": "stderr",
     "output_type": "stream",
     "text": [
      "/tmp/ipykernel_41411/3332767449.py:20: UserWarning: KDE cannot be estimated (0 variance or perfect covariance). Pass `warn_singular=False` to disable this warning.\n",
      "  sns.kdeplot(data=df, x=\"x\", y=\"y\", hue=\"color\", fill=True,)\n"
     ]
    },
    {
     "name": "stdout",
     "output_type": "stream",
     "text": [
      "Processing bluuebunny/arxiv_abstract_embedding_mxbai_large_v1_milvus_binary/umap/hamming/2016.parquet\n"
     ]
    },
    {
     "name": "stderr",
     "output_type": "stream",
     "text": [
      "/tmp/ipykernel_41411/3332767449.py:20: UserWarning: KDE cannot be estimated (0 variance or perfect covariance). Pass `warn_singular=False` to disable this warning.\n",
      "  sns.kdeplot(data=df, x=\"x\", y=\"y\", hue=\"color\", fill=True,)\n"
     ]
    },
    {
     "name": "stdout",
     "output_type": "stream",
     "text": [
      "Processing bluuebunny/arxiv_abstract_embedding_mxbai_large_v1_milvus_binary/umap/hamming/2017.parquet\n",
      "Processing bluuebunny/arxiv_abstract_embedding_mxbai_large_v1_milvus_binary/umap/hamming/2018.parquet\n",
      "Processing bluuebunny/arxiv_abstract_embedding_mxbai_large_v1_milvus_binary/umap/hamming/2019.parquet\n",
      "Processing bluuebunny/arxiv_abstract_embedding_mxbai_large_v1_milvus_binary/umap/hamming/2020.parquet\n",
      "Processing bluuebunny/arxiv_abstract_embedding_mxbai_large_v1_milvus_binary/umap/hamming/2021.parquet\n",
      "Processing bluuebunny/arxiv_abstract_embedding_mxbai_large_v1_milvus_binary/umap/hamming/2022.parquet\n",
      "Processing bluuebunny/arxiv_abstract_embedding_mxbai_large_v1_milvus_binary/umap/hamming/2023.parquet\n",
      "Processing bluuebunny/arxiv_abstract_embedding_mxbai_large_v1_milvus_binary/umap/hamming/2024.parquet\n",
      "Processing bluuebunny/arxiv_abstract_embedding_mxbai_large_v1_milvus_binary/umap/hamming/2025.parquet\n"
     ]
    }
   ],
   "source": [
    "# Filter out the yearly files\n",
    "for parquet in parquets:\n",
    "\n",
    "    print(f'Processing {parquet}')\n",
    "\n",
    "    # Read the parquet file into a pandas dataframe\n",
    "    df = pd.read_parquet(parquet)\n",
    "\n",
    "    # Get the unique categories\n",
    "    unique_categories = df['categories'].unique()\n",
    "    unique_categories.sort()\n",
    "\n",
    "    # Create a mapping from category to color\n",
    "    category_colors = {category: f'C{i}' for i, category in enumerate(unique_categories)}\n",
    "\n",
    "    # Map the categories to colors\n",
    "    df['color'] = df['categories'].map(category_colors)\n",
    "\n",
    "    # Create a kde plot of the UMAP projection\n",
    "    sns.kdeplot(data=df, x=\"x\", y=\"y\", hue=\"color\", fill=True,)\n",
    "\n",
    "    plt.title(f'KDE plot of Binary UMAP Projection for the year {os.path.basename(parquet).split(\".\")[0]}')\n",
    "    plt.xlabel('Dimension 1')\n",
    "    plt.ylabel('Dimension 2')\n",
    "    plt.legend(handles=[plt.Line2D([0], [0], marker='o', color='w', label=category,\n",
    "                                      markerfacecolor=color, markersize=5)\n",
    "                        for category, color in category_colors.items()],\n",
    "               title='Categories', loc='upper right', bbox_to_anchor=(1.15, 1))\n",
    "\n",
    "    plt.tight_layout()\n",
    "    plt.savefig(f\"{parquet.replace('.parquet', '_kde_binary.png')}\", dpi=300, bbox_inches='tight')\n",
    "\n",
    "    # Uncomment the line below to display the plot\n",
    "    # plt.show()\n",
    "\n",
    "    plt.close()\n",
    "    \n",
    "\n"
   ]
  },
  {
   "cell_type": "code",
   "execution_count": null,
   "id": "891261dc",
   "metadata": {},
   "outputs": [],
   "source": []
  }
 ],
 "metadata": {
  "kernelspec": {
   "display_name": ".venv",
   "language": "python",
   "name": "python3"
  },
  "language_info": {
   "codemirror_mode": {
    "name": "ipython",
    "version": 3
   },
   "file_extension": ".py",
   "mimetype": "text/x-python",
   "name": "python",
   "nbconvert_exporter": "python",
   "pygments_lexer": "ipython3",
   "version": "3.9.22"
  }
 },
 "nbformat": 4,
 "nbformat_minor": 5
}
